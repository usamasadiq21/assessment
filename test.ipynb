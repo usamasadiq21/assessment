{
 "cells": [
  {
   "cell_type": "markdown",
   "metadata": {},
   "source": [
    "### Question 01: File Analysis and Word Search\n",
    "    Instructions:\n",
    "    1. Write a Python function named analyze_file that takes the name of a\n",
    "        file as input and returns a dictionary containing the counts of characters,\n",
    "        words, and lines in that file.\n",
    "        2. Write another Python function named search_word that takes the name\n",
    "        of a file and a word as input and returns the count of occurrences of that\n",
    "        word in the file.\n",
    "        3. Ensure that your functions handle file not found errors gracefully and\n",
    "        return appropriate values in such cases.\n"
   ]
  },
  {
   "cell_type": "code",
   "execution_count": 2,
   "metadata": {},
   "outputs": [],
   "source": [
    "def analyze_file(file_name):\n",
    "    try:\n",
    "        with open(file_name, 'r') as file:\n",
    "            text = file.read()\n",
    "            num_chars = len(text)            # Count all characters\n",
    "            num_words = len(text.split())     # Count all words\n",
    "            num_lines = len(text.splitlines()) # Count all lines\n",
    "\n",
    "            return {\n",
    "                \"characters\": num_chars,\n",
    "                \"words\": num_words,\n",
    "                \"lines\": num_lines\n",
    "            }\n",
    "    except FileNotFoundError:\n",
    "        print(f\"File '{file_name}' not found.\")\n",
    "        return {\"characters\": 0, \"words\": 0, \"lines\": 0}"
   ]
  },
  {
   "cell_type": "code",
   "execution_count": 3,
   "metadata": {},
   "outputs": [
    {
     "data": {
      "text/plain": [
       "{'characters': 57, 'words': 10, 'lines': 6}"
      ]
     },
     "execution_count": 3,
     "metadata": {},
     "output_type": "execute_result"
    }
   ],
   "source": [
    "analyze_file('dummy2.txt')"
   ]
  },
  {
   "cell_type": "code",
   "execution_count": 5,
   "metadata": {},
   "outputs": [],
   "source": [
    "def search_word(file_name, word):\n",
    "    try:\n",
    "        with open(file_name, 'r') as file:\n",
    "            text = file.read()\n",
    "            word_count = text.lower().split().count(word.lower())  # First convert all text in dummy2 file into lower case then split will make a list of all character and the simply count the repeated words.\n",
    "            print(word)\n",
    "            return word_count\n",
    "    except FileNotFoundError:\n",
    "        print(f\"File '{file_name}' not found.\")\n",
    "        return 0  # Return 0 if file not found"
   ]
  },
  {
   "cell_type": "code",
   "execution_count": 10,
   "metadata": {},
   "outputs": [
    {
     "name": "stdout",
     "output_type": "stream",
     "text": [
      "Saad\n",
      "4\n"
     ]
    }
   ],
   "source": [
    "print(search_word('dummy2.txt', \"Saad\"))  # To get count of the word"
   ]
  },
  {
   "cell_type": "markdown",
   "metadata": {},
   "source": [
    "### Question 2"
   ]
  },
  {
   "cell_type": "markdown",
   "metadata": {},
   "source": [
    "1. Create a base class named Book:\n",
    "    Attributes:\n",
    "    1. title (string): The title of the book.\n",
    "    2. author (string): The author of the book.\n",
    "    3. isbn (string): A unique identifier for each book.\n",
    "    4. is_borrowed (boolean): Indicates if the book is currently borrowed.\n",
    "    Methods:\n",
    "    1. borrow(): Sets the is_borrowed attribute to True.\n",
    "    2. return_book(): Sets the is_borrowed attribute to False."
   ]
  },
  {
   "cell_type": "code",
   "execution_count": null,
   "metadata": {},
   "outputs": [],
   "source": [
    "class Book:\n",
    "    def __init__(self, title, author, isbn):\n",
    "        self.title = title  # TItle of Book\n",
    "        self.author = author # Author of Book\n",
    "        self.isbn = isbn # ID for each Book\n",
    "        self.is_borrowed = False \n",
    "\n",
    "    def borrow(self):\n",
    "        if not self.is_borrowed:\n",
    "            self.is_borrowed = True\n",
    "            print(f\"'{self.title}' has been borrowed.\")\n",
    "        else:\n",
    "            print(f\"'{self.title}' is already borrowed.\")\n",
    "\n",
    "    def return_book(self):\n",
    "        if self.is_borrowed:\n",
    "            self.is_borrowed = False\n",
    "            print(f\"'{self.title}' has been returned.\")\n",
    "        else:\n",
    "            print(f\"'{self.title}' was not borrowed.\")"
   ]
  },
  {
   "cell_type": "code",
   "execution_count": 54,
   "metadata": {},
   "outputs": [
    {
     "name": "stdout",
     "output_type": "stream",
     "text": [
      "Title: Harry Potter \n",
      "Author: Usama, \n",
      "ID: 3322\n"
     ]
    }
   ],
   "source": [
    "book1 = Book('Harry Potter', 'Usama', '3322')\n",
    "print(f\"Title: {book1.title} \\nAuthor: {book1.author}, \\nID: {book1.isbn}\")"
   ]
  },
  {
   "cell_type": "markdown",
   "metadata": {},
   "source": [
    "2. Create a subclass named DigitalBook that inherits from Book:\n",
    "    1. Additional Attributes:\n",
    "    2. file_format (string): Format of the digital book (e.g., PDF, EPUB).\n",
    "    3. Override the borrow() method to print an additional message indicating that the book can be accessed online."
   ]
  },
  {
   "cell_type": "code",
   "execution_count": null,
   "metadata": {},
   "outputs": [],
   "source": [
    "# Subclass DigitalBook\n",
    "class DigitalBook(Book):\n",
    "    def __init__(self, title, author, isbn, file_format):\n",
    "        super().__init__(title, author, isbn)\n",
    "        self.file_format = file_format\n",
    "\n",
    "    def borrow(self):\n",
    "        super().borrow()\n",
    "        if self.is_borrowed:\n",
    "            print(f\"The digital book '{self.title}' can be accessed online in {self.file_format} format.\")"
   ]
  },
  {
   "cell_type": "code",
   "execution_count": 55,
   "metadata": {},
   "outputs": [
    {
     "name": "stdout",
     "output_type": "stream",
     "text": [
      "Title: Harry Potter \n",
      "Author: Usama, \n",
      "ID: 0033 \n",
      "Format: PDF\n"
     ]
    }
   ],
   "source": [
    "digiBook = DigitalBook('Harry Potter', 'Usama', '0033', 'PDF')\n",
    "print(f\"Title: {digiBook.title} \\nAuthor: {digiBook.author}, \\nID: {digiBook.isbn} \\nFormat: {digiBook.file_format}\")\n"
   ]
  },
  {
   "cell_type": "markdown",
   "metadata": {},
   "source": [
    "3. Create another subclass named AudioBook that inherits from Book:\n",
    "    1. Additional Attributes:\n",
    "    2. duration (float): The length of the audiobook in hours.\n",
    "    3. Override the borrow() method to print an additional message indicating that the audiobook is available for streaming."
   ]
  },
  {
   "cell_type": "code",
   "execution_count": null,
   "metadata": {},
   "outputs": [],
   "source": [
    "# Subclass AudioBook\n",
    "class AudioBook(Book):\n",
    "    def __init__(self, title, author, isbn, duration):\n",
    "        super().__init__(title, author, isbn)\n",
    "        self.duration = duration\n",
    "\n",
    "    def borrow(self):\n",
    "        super().borrow()\n",
    "        if self.is_borrowed:\n",
    "            print(f\"The audiobook '{self.title}' is available for streaming with a duration of {self.duration} hours.\")\n"
   ]
  },
  {
   "cell_type": "code",
   "execution_count": 56,
   "metadata": {},
   "outputs": [
    {
     "name": "stdout",
     "output_type": "stream",
     "text": [
      "Title: Harry Potter \n",
      "Author: Usama, \n",
      "ID: 0033 \n",
      "Duration: 3.15\n"
     ]
    }
   ],
   "source": [
    "audiobook = AudioBook('Harry Potter', 'Usama', '0033', 3.15)\n",
    "audiobook.borrow\n",
    "print(f\"Title: {audiobook.title} \\nAuthor: {audiobook.author}, \\nID: {audiobook.isbn} \\nDuration: {audiobook.duration}\")\n"
   ]
  }
 ],
 "metadata": {
  "kernelspec": {
   "display_name": "Python 3",
   "language": "python",
   "name": "python3"
  },
  "language_info": {
   "codemirror_mode": {
    "name": "ipython",
    "version": 3
   },
   "file_extension": ".py",
   "mimetype": "text/x-python",
   "name": "python",
   "nbconvert_exporter": "python",
   "pygments_lexer": "ipython3",
   "version": "3.12.3"
  }
 },
 "nbformat": 4,
 "nbformat_minor": 2
}
